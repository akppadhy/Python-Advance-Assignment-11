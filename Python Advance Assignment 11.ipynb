{
 "cells": [
  {
   "cell_type": "code",
   "execution_count": null,
   "id": "b50eb7e3-739b-4910-9f66-203ec5d84af9",
   "metadata": {},
   "outputs": [],
   "source": [
    "#1. What is the concept of a metaclass?\n",
    "\n",
    "Ans. Metaclass in Python is a class of a class that defines how a class behaves any Instance of Class in Python is an Instance of type metaclass. \n",
    "E.g. Type of of int, str, float, list, tuple"
   ]
  },
  {
   "cell_type": "code",
   "execution_count": null,
   "id": "dbabac42-09fe-4a4a-929c-6f394665e26b",
   "metadata": {},
   "outputs": [],
   "source": [
    "#2.  What is the best way to declare a class's metaclass ?\n",
    "\n",
    "Ans. A way to declare a class’ metaclass is by using metaclass keyword in class definition."
   ]
  },
  {
   "cell_type": "code",
   "execution_count": null,
   "id": "95be3f50-f534-43bd-af94-bf4b688abe8b",
   "metadata": {},
   "outputs": [],
   "source": [
    "#3.  How do class decorators overlap with metaclasses for handling classes ?\n",
    "\n",
    "Ans. Anything you can do with a class decorator, you can of course do with a custom metaclasses (just apply the functionality of the \"decorator function\", i.e.,\n",
    "the one that takes a class object and modifies it, in the course of the metaclass's __new__ or __init__ that make the class object!)."
   ]
  },
  {
   "cell_type": "code",
   "execution_count": null,
   "id": "8b01f38d-7606-4713-a8cf-9cee21e572ea",
   "metadata": {},
   "outputs": [],
   "source": [
    "#4. How do class decorators overlap with metaclasses for handling instances?\n",
    "\n",
    "Ans. Anything you can do with a class decorator, you can of course do with a custom metaclasses (just apply the functionality of the \"decorator function\",\n",
    "i.e., the one that takes a class object and modifies it, in the course of the metaclass's __new__ or __init__ that make the class object!)."
   ]
  }
 ],
 "metadata": {
  "kernelspec": {
   "display_name": "Python 3 (ipykernel)",
   "language": "python",
   "name": "python3"
  },
  "language_info": {
   "codemirror_mode": {
    "name": "ipython",
    "version": 3
   },
   "file_extension": ".py",
   "mimetype": "text/x-python",
   "name": "python",
   "nbconvert_exporter": "python",
   "pygments_lexer": "ipython3",
   "version": "3.10.6"
  }
 },
 "nbformat": 4,
 "nbformat_minor": 5
}
